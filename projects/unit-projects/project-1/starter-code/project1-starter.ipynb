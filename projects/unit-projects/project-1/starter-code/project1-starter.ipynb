{
 "cells": [
  {
   "cell_type": "markdown",
   "metadata": {},
   "source": [
    "# Project 1\n",
    "\n",
    "In this first project you will create a framework to scope out data science projects. This framework will provide you with a guide to develop a well-articulated problem statement and analysis plan that will be robust and reproducible."
   ]
  },
  {
   "cell_type": "markdown",
   "metadata": {},
   "source": [
    "### Read and evaluate the following problem statement: \n",
    "Determine which free-tier customers will covert to paying customers, using demographic data collected at signup (age, gender, location, and profession) and customer useage data (days since last log in, and activity score 1 = active user, 0= inactive user) based on Hooli data from Jan-Apr 2015. \n"
   ]
  },
  {
   "cell_type": "markdown",
   "metadata": {},
   "source": [
    "#### 1. What is the outcome?"
   ]
  },
  {
   "cell_type": "markdown",
   "metadata": {},
   "source": [
    "Answer: The activity score is the outcome, as it indicates if the customer converted. "
   ]
  },
  {
   "cell_type": "markdown",
   "metadata": {},
   "source": [
    "#### 2. What are the predictors/covariates? "
   ]
  },
  {
   "cell_type": "markdown",
   "metadata": {},
   "source": [
    "Answer: The predictors are age, gender, location, profession, and days since the last log in. "
   ]
  },
  {
   "cell_type": "markdown",
   "metadata": {},
   "source": [
    "#### 3. What timeframe is this data relevent for?"
   ]
  },
  {
   "cell_type": "markdown",
   "metadata": {},
   "source": [
    "Answer: Jan - Apr 2015"
   ]
  },
  {
   "cell_type": "markdown",
   "metadata": {},
   "source": [
    "#### 4. What is the hypothesis?"
   ]
  },
  {
   "cell_type": "markdown",
   "metadata": {},
   "source": [
    "Answer: Male users between the ages of 25 - 35 that work in the technology sector are most likely to convert. "
   ]
  },
  {
   "cell_type": "markdown",
   "metadata": {},
   "source": [
    "## Let's get started with our dataset"
   ]
  },
  {
   "cell_type": "markdown",
   "metadata": {},
   "source": [
    "#### 1. Create a data dictionary "
   ]
  },
  {
   "cell_type": "code",
   "execution_count": 2,
   "metadata": {
    "collapsed": false,
    "scrolled": false
   },
   "outputs": [
    {
     "data": {
      "text/html": [
       "<div>\n",
       "<table border=\"1\" class=\"dataframe\">\n",
       "  <thead>\n",
       "    <tr style=\"text-align: right;\">\n",
       "      <th></th>\n",
       "      <th>admit</th>\n",
       "      <th>gre</th>\n",
       "      <th>gpa</th>\n",
       "      <th>prestige</th>\n",
       "    </tr>\n",
       "  </thead>\n",
       "  <tbody>\n",
       "    <tr>\n",
       "      <th>0</th>\n",
       "      <td>0</td>\n",
       "      <td>380.0</td>\n",
       "      <td>3.61</td>\n",
       "      <td>3.0</td>\n",
       "    </tr>\n",
       "    <tr>\n",
       "      <th>1</th>\n",
       "      <td>1</td>\n",
       "      <td>660.0</td>\n",
       "      <td>3.67</td>\n",
       "      <td>3.0</td>\n",
       "    </tr>\n",
       "    <tr>\n",
       "      <th>2</th>\n",
       "      <td>1</td>\n",
       "      <td>800.0</td>\n",
       "      <td>4.00</td>\n",
       "      <td>1.0</td>\n",
       "    </tr>\n",
       "    <tr>\n",
       "      <th>3</th>\n",
       "      <td>1</td>\n",
       "      <td>640.0</td>\n",
       "      <td>3.19</td>\n",
       "      <td>4.0</td>\n",
       "    </tr>\n",
       "    <tr>\n",
       "      <th>4</th>\n",
       "      <td>0</td>\n",
       "      <td>520.0</td>\n",
       "      <td>2.93</td>\n",
       "      <td>4.0</td>\n",
       "    </tr>\n",
       "  </tbody>\n",
       "</table>\n",
       "</div>"
      ],
      "text/plain": [
       "   admit    gre   gpa  prestige\n",
       "0      0  380.0  3.61       3.0\n",
       "1      1  660.0  3.67       3.0\n",
       "2      1  800.0  4.00       1.0\n",
       "3      1  640.0  3.19       4.0\n",
       "4      0  520.0  2.93       4.0"
      ]
     },
     "execution_count": 2,
     "metadata": {},
     "output_type": "execute_result"
    }
   ],
   "source": [
    "import pandas as pd\n",
    "\n",
    "path = \"../assets/admissions.csv\"\n",
    "df = pd.read_csv(path)\n",
    "df.head()"
   ]
  },
  {
   "cell_type": "markdown",
   "metadata": {},
   "source": [
    "Answer: \n",
    "\n",
    "Variable | Description | Type of Variable \n",
    "---| ---| ---\n",
    "admit | 0 = not admitted 1 = admitted | categorical\n",
    "gre | test score| continuous\n",
    "gpa | grade point average | continious\n",
    "prestige | rank of undergradate school | ordinal\n"
   ]
  },
  {
   "cell_type": "code",
   "execution_count": 3,
   "metadata": {
    "collapsed": false,
    "scrolled": true
   },
   "outputs": [
    {
     "data": {
      "text/plain": [
       "admit       400\n",
       "gre         398\n",
       "gpa         398\n",
       "prestige    399\n",
       "dtype: int64"
      ]
     },
     "execution_count": 3,
     "metadata": {},
     "output_type": "execute_result"
    }
   ],
   "source": [
    "df.count()"
   ]
  },
  {
   "cell_type": "code",
   "execution_count": 4,
   "metadata": {
    "collapsed": false
   },
   "outputs": [
    {
     "data": {
      "text/plain": [
       "(400, 4)"
      ]
     },
     "execution_count": 4,
     "metadata": {},
     "output_type": "execute_result"
    }
   ],
   "source": [
    "df.shape"
   ]
  },
  {
   "cell_type": "code",
   "execution_count": 5,
   "metadata": {
    "collapsed": false,
    "scrolled": false
   },
   "outputs": [
    {
     "name": "stderr",
     "output_type": "stream",
     "text": [
      "/Users/leelewis/anaconda/lib/python2.7/site-packages/numpy/lib/function_base.py:3834: RuntimeWarning: Invalid value encountered in percentile\n",
      "  RuntimeWarning)\n"
     ]
    },
    {
     "data": {
      "text/html": [
       "<div>\n",
       "<table border=\"1\" class=\"dataframe\">\n",
       "  <thead>\n",
       "    <tr style=\"text-align: right;\">\n",
       "      <th></th>\n",
       "      <th>admit</th>\n",
       "      <th>gre</th>\n",
       "      <th>gpa</th>\n",
       "      <th>prestige</th>\n",
       "    </tr>\n",
       "  </thead>\n",
       "  <tbody>\n",
       "    <tr>\n",
       "      <th>count</th>\n",
       "      <td>400.000000</td>\n",
       "      <td>398.000000</td>\n",
       "      <td>398.00000</td>\n",
       "      <td>399.000000</td>\n",
       "    </tr>\n",
       "    <tr>\n",
       "      <th>mean</th>\n",
       "      <td>0.317500</td>\n",
       "      <td>588.040201</td>\n",
       "      <td>3.39093</td>\n",
       "      <td>2.486216</td>\n",
       "    </tr>\n",
       "    <tr>\n",
       "      <th>std</th>\n",
       "      <td>0.466087</td>\n",
       "      <td>115.628513</td>\n",
       "      <td>0.38063</td>\n",
       "      <td>0.945333</td>\n",
       "    </tr>\n",
       "    <tr>\n",
       "      <th>min</th>\n",
       "      <td>0.000000</td>\n",
       "      <td>220.000000</td>\n",
       "      <td>2.26000</td>\n",
       "      <td>1.000000</td>\n",
       "    </tr>\n",
       "    <tr>\n",
       "      <th>25%</th>\n",
       "      <td>0.000000</td>\n",
       "      <td>NaN</td>\n",
       "      <td>NaN</td>\n",
       "      <td>NaN</td>\n",
       "    </tr>\n",
       "    <tr>\n",
       "      <th>50%</th>\n",
       "      <td>0.000000</td>\n",
       "      <td>NaN</td>\n",
       "      <td>NaN</td>\n",
       "      <td>NaN</td>\n",
       "    </tr>\n",
       "    <tr>\n",
       "      <th>75%</th>\n",
       "      <td>1.000000</td>\n",
       "      <td>NaN</td>\n",
       "      <td>NaN</td>\n",
       "      <td>NaN</td>\n",
       "    </tr>\n",
       "    <tr>\n",
       "      <th>max</th>\n",
       "      <td>1.000000</td>\n",
       "      <td>800.000000</td>\n",
       "      <td>4.00000</td>\n",
       "      <td>4.000000</td>\n",
       "    </tr>\n",
       "  </tbody>\n",
       "</table>\n",
       "</div>"
      ],
      "text/plain": [
       "            admit         gre        gpa    prestige\n",
       "count  400.000000  398.000000  398.00000  399.000000\n",
       "mean     0.317500  588.040201    3.39093    2.486216\n",
       "std      0.466087  115.628513    0.38063    0.945333\n",
       "min      0.000000  220.000000    2.26000    1.000000\n",
       "25%      0.000000         NaN        NaN         NaN\n",
       "50%      0.000000         NaN        NaN         NaN\n",
       "75%      1.000000         NaN        NaN         NaN\n",
       "max      1.000000  800.000000    4.00000    4.000000"
      ]
     },
     "execution_count": 5,
     "metadata": {},
     "output_type": "execute_result"
    }
   ],
   "source": [
    "df.describe()"
   ]
  },
  {
   "cell_type": "code",
   "execution_count": 6,
   "metadata": {
    "collapsed": false
   },
   "outputs": [
    {
     "data": {
      "text/plain": [
       "admit       397\n",
       "gre         397\n",
       "gpa         397\n",
       "prestige    397\n",
       "dtype: int64"
      ]
     },
     "execution_count": 6,
     "metadata": {},
     "output_type": "execute_result"
    }
   ],
   "source": [
    "#Drop Null Values in order to eliminate any noise in the data. This is a safe step, as there are only a few rows\n",
    "# with nulls. If this function would have dropped too many significant rows, I would have selected a \n",
    "#specific column to drop instead. \n",
    "\n",
    "dfClean = df.dropna()\n",
    "\n",
    "dfClean.count()\n"
   ]
  },
  {
   "cell_type": "markdown",
   "metadata": {
    "collapsed": false
   },
   "source": [
    "### dfAdmit = dfClean[ dfClean.admit ==1]\n",
    "dfNoAdmit = dfClean[ dfClean.admit == 0]\n",
    "\n",
    "print dfAdmit.describe()\n",
    "print dfNoAdmit.describe()\n"
   ]
  },
  {
   "cell_type": "markdown",
   "metadata": {},
   "source": [
    "We would like to explore the association between X and Y "
   ]
  },
  {
   "cell_type": "code",
   "execution_count": 20,
   "metadata": {
    "collapsed": false
   },
   "outputs": [
    {
     "data": {
      "text/plain": [
       "<matplotlib.collections.LineCollection at 0x11a853950>"
      ]
     },
     "execution_count": 20,
     "metadata": {},
     "output_type": "execute_result"
    },
    {
     "data": {
      "image/png": "[encoded data removed]",
      "text/plain": [
       "<matplotlib.figure.Figure at 0x11a325cd0>"
      ]
     },
     "metadata": {},
     "output_type": "display_data"
    }
   ],
   "source": [
    "import matplotlib.pyplot as plt\n",
    "%matplotlib inline\n",
    "\n",
    "\n",
    "#plot for GRE\n",
    "\n",
    "dfClean.gre.plot(kind=\"hist\", title = 'GRE - Density')\n",
    "             \n",
    "\n",
    "plt.vlines(dfClean.gre.mean(),     # Plot black line at mean\n",
    "           ymin=0,\n",
    "           ymax=.0035,\n",
    "           linewidth=3.0)\n",
    "\n",
    "plt.vlines(dfClean.gre.median(),   # Plot red line at median\n",
    "           ymin=0, \n",
    "           ymax=0.0035, \n",
    "           linewidth=2.0,\n",
    "           color=\"red\")\n",
    "\n",
    "plt.vlines(dfClean.gre.mode(),   # Plot red line at median\n",
    "           ymin=0, \n",
    "           ymax=0.0035, \n",
    "           linewidth=2.0,\n",
    "           color=\"yellow\")\n",
    "\n"
   ]
  },
  {
   "cell_type": "code",
   "execution_count": 25,
   "metadata": {
    "collapsed": false
   },
   "outputs": [
    {
     "data": {
      "text/plain": [
       "<matplotlib.collections.LineCollection at 0x11b0a5990>"
      ]
     },
     "execution_count": 25,
     "metadata": {},
     "output_type": "execute_result"
    },
    {
     "data": {
      "image/png": "[encoded data removed]",
      "text/plain": [
       "<matplotlib.figure.Figure at 0x11aec52d0>"
      ]
     },
     "metadata": {},
     "output_type": "display_data"
    }
   ],
   "source": [
    "#plot for GPA\n",
    "\n",
    "dfClean.gpa.plot(kind=\"hist\", title = 'GPA - Density')\n",
    "             \n",
    "\n",
    "plt.vlines(dfClean.gpa.mean(),     # Plot black line at mean\n",
    "           ymin=0,\n",
    "           ymax=1,\n",
    "           linewidth=3.0)\n",
    "\n",
    "plt.vlines(dfClean.gpa.median(),   # Plot red line at median\n",
    "           ymin=0, \n",
    "           ymax=1, \n",
    "           linewidth=2.0,\n",
    "           color=\"red\")\n",
    "\n",
    "\n",
    "plt.vlines(dfClean.gpa.mode(),   # Plot red line at median\n",
    "           ymin=0, \n",
    "           ymax=1, \n",
    "           linewidth=2.0,\n",
    "           color=\"yellow\")"
   ]
  },
  {
   "cell_type": "code",
   "execution_count": 27,
   "metadata": {
    "collapsed": false
   },
   "outputs": [
    {
     "data": {
      "text/plain": [
       "<matplotlib.collections.LineCollection at 0x11b1b53d0>"
      ]
     },
     "execution_count": 27,
     "metadata": {},
     "output_type": "execute_result"
    },
    {
     "data": {
      "image/png": "[encoded data removed]",
      "text/plain": [
       "<matplotlib.figure.Figure at 0x11b1b55d0>"
      ]
     },
     "metadata": {},
     "output_type": "display_data"
    }
   ],
   "source": [
    "#plot for prestige\n",
    "\n",
    "dfClean.gre.plot(kind=\"box\", title = 'Prestige - Box Plot') # a box plot is better suited for categorical variables\n",
    "             \n",
    "\n",
    "plt.vlines(dfClean.gre.mean(),   # Plot red line at median\n",
    "           ymin=0, \n",
    "           ymax=5, \n",
    "           linewidth=2.0,\n",
    "           color=\"green\")\n",
    "\n"
   ]
  },
  {
   "cell_type": "code",
   "execution_count": 10,
   "metadata": {
    "collapsed": false
   },
   "outputs": [
    {
     "name": "stdout",
     "output_type": "stream",
     "text": [
      "admit      -1.386588\n",
      "gre        -0.332864\n",
      "gpa        -0.563570\n",
      "prestige   -0.901038\n",
      "dtype: float64\n",
      "admit       0.787669\n",
      "gre        -0.146047\n",
      "gpa        -0.216889\n",
      "prestige    0.086506\n",
      "dtype: float64\n"
     ]
    }
   ],
   "source": [
    "print dfClean.kurtosis() # slightly negative, means slightly less kurtosis than a normal distribution\n",
    "\n",
    "print dfClean.skew() #very litle skewness"
   ]
  },
  {
   "cell_type": "markdown",
   "metadata": {},
   "source": [
    "#### 2. What is the outcome?"
   ]
  },
  {
   "cell_type": "markdown",
   "metadata": {},
   "source": [
    "Answer: The Admit column is the outcome. It indicates if the student was admitted. "
   ]
  },
  {
   "cell_type": "markdown",
   "metadata": {},
   "source": [
    "#### 3. What are the predictors/covariates? "
   ]
  },
  {
   "cell_type": "markdown",
   "metadata": {},
   "source": [
    "Answer: The predictors are GRE, GPA, and Prestige. They influence if the student is admitted. "
   ]
  },
  {
   "cell_type": "markdown",
   "metadata": {},
   "source": [
    "#### 4. What timeframe is this data relevent for?"
   ]
  },
  {
   "cell_type": "markdown",
   "metadata": {},
   "source": [
    "Answer: Timeframe is not defined\n"
   ]
  },
  {
   "cell_type": "markdown",
   "metadata": {},
   "source": [
    "#### 4. What is the hypothesis?"
   ]
  },
  {
   "cell_type": "markdown",
   "metadata": {},
   "source": [
    "Answer: The data has slightly less kurtosis than a normal distribution. Most of the values are close to the mean."
   ]
  },
  {
   "cell_type": "markdown",
   "metadata": {},
   "source": [
    "    Using the above information, write a well-formed problem statement"
   ]
  },
  {
   "cell_type": "markdown",
   "metadata": {},
   "source": [
    "Determine which students will get admitted to grad school using their undergraduate GPA, GRE and the Prestige of their undergraduate school. Prestige is a numerical value where higher values indicate more prestigious schools. "
   ]
  },
  {
   "cell_type": "markdown",
   "metadata": {},
   "source": [
    "### Exploratory Analysis Plan"
   ]
  },
  {
   "cell_type": "markdown",
   "metadata": {},
   "source": [
    "Using the lab from a class as a guide, create an exploratory analysis plan. "
   ]
  },
  {
   "cell_type": "markdown",
   "metadata": {},
   "source": [
    "#### 1. What are the goals of the exploratory analysis? "
   ]
  },
  {
   "cell_type": "markdown",
   "metadata": {
    "collapsed": true
   },
   "source": [
    "Answer: \n",
    "1. Understand the general structure and composition of the data set\n",
    "2. Confirm the distribution of each predictor varible\n",
    "3. Determine the correlation between the predictors and the outcome variable"
   ]
  },
  {
   "cell_type": "markdown",
   "metadata": {},
   "source": [
    "#### 2a. What are the assumptions of the distribution of data? "
   ]
  },
  {
   "cell_type": "markdown",
   "metadata": {},
   "source": [
    "Answer: The data sets have a kurtosis very close to zero, which means the data sets are similar to normal distributions. "
   ]
  },
  {
   "cell_type": "markdown",
   "metadata": {},
   "source": [
    "#### 2b. How will determine the distribution of your data? "
   ]
  },
  {
   "cell_type": "markdown",
   "metadata": {
    "collapsed": true
   },
   "source": [
    "Answer: The distribution can be determined using a density plot or histogram."
   ]
  },
  {
   "cell_type": "markdown",
   "metadata": {},
   "source": [
    "#### 3a. How might outliers impact your analysis? "
   ]
  },
  {
   "cell_type": "markdown",
   "metadata": {
    "collapsed": true
   },
   "source": [
    "Answer: Outliers can push the mean to the right. In some cases, we may consider removing the outliers, as they will negatively impact the correlation between the predictors and the outcome varible"
   ]
  },
  {
   "cell_type": "markdown",
   "metadata": {},
   "source": [
    "#### 3b. How will you test for outliers? "
   ]
  },
  {
   "cell_type": "markdown",
   "metadata": {},
   "source": [
    "Answer: A scatter plot is a quick way to visually identify outliers in the data. I can also assume that any value more than two standard devations from the mean is considered an outlier. "
   ]
  },
  {
   "cell_type": "code",
   "execution_count": 19,
   "metadata": {
    "collapsed": false
   },
   "outputs": [
    {
     "data": {
      "text/plain": [
       "<matplotlib.axes._subplots.AxesSubplot at 0x11a302410>"
      ]
     },
     "execution_count": 19,
     "metadata": {},
     "output_type": "execute_result"
    },
    {
     "data": {
      "image/png": "[encoded data removed]",
      "text/plain": [
       "<matplotlib.figure.Figure at 0x11a174510>"
      ]
     },
     "metadata": {},
     "output_type": "display_data"
    }
   ],
   "source": [
    "dfClean.plot(kind = 'scatter' , x= 'gre', y = 'gpa')"
   ]
  },
  {
   "cell_type": "code",
   "execution_count": 12,
   "metadata": {
    "collapsed": false
   },
   "outputs": [
    {
     "data": {
      "text/plain": [
       "<matplotlib.axes._subplots.AxesSubplot at 0x119b1d190>"
      ]
     },
     "execution_count": 12,
     "metadata": {},
     "output_type": "execute_result"
    },
    {
     "data": {
      "image/png": "[encoded data removed]",
      "text/plain": [
       "<matplotlib.figure.Figure at 0x119b42ad0>"
      ]
     },
     "metadata": {},
     "output_type": "display_data"
    }
   ],
   "source": [
    "dfClean.plot(kind = 'scatter' , x= 'admit', y = 'gpa')"
   ]
  },
  {
   "cell_type": "code",
   "execution_count": 13,
   "metadata": {
    "collapsed": false
   },
   "outputs": [
    {
     "name": "stdout",
     "output_type": "stream",
     "text": [
      "        admit       gre       gpa  prestige\n",
      "0   -0.681009 -1.796257  0.572734  0.539905\n",
      "1    1.464710  0.623422  0.730542  0.539905\n",
      "2    1.464710  1.833262  1.598487 -1.571841\n",
      "3    1.464710  0.450588 -0.531924  1.595778\n",
      "4   -0.681009 -0.586418 -1.215759  1.595778\n",
      "5    1.464710  1.487594 -1.031650 -0.515968\n",
      "6    1.464710 -0.240749 -1.084253 -1.571841\n",
      "7   -0.681009 -1.623423 -0.821239 -0.515968\n",
      "8    1.464710 -0.413583 -0.005896  0.539905\n",
      "9   -0.681009  0.969091  1.388076 -0.515968\n",
      "10  -0.681009  1.833262  1.598487  1.595778\n",
      "11  -0.681009 -1.277755 -0.453020 -1.571841\n",
      "12   1.464710  1.487594  1.598487 -1.571841\n",
      "13  -0.681009  0.969091 -0.821239 -0.515968\n",
      "14   1.464710  0.969091  1.598487 -1.571841\n",
      "15  -0.681009 -0.932086  0.125611  0.539905\n",
      "16  -0.681009  1.660428  1.256570  1.595778\n",
      "17  -0.681009 -1.969092 -2.188910  0.539905\n",
      "18  -0.681009  1.833262  0.940953 -0.515968\n",
      "19   1.464710 -0.413583  1.098761 -1.571841\n",
      "20  -0.681009 -0.759252 -0.584526  0.539905\n",
      "21   1.464710  0.623422  0.625337 -0.515968\n",
      "22  -0.681009  0.104920 -1.505075  1.595778\n",
      "23  -0.681009  0.796257 -0.531924  1.595778\n",
      "24   1.464710  1.487594 -0.111102 -0.515968\n",
      "25   1.464710  1.833262  0.704241 -1.571841\n",
      "26   1.464710  0.277754  0.572734 -1.571841\n",
      "27   1.464710 -0.586418  0.914652  1.595778\n",
      "28   1.464710  1.660428 -0.453020 -0.515968\n",
      "29  -0.681009 -0.586418 -0.268910 -1.571841\n",
      "..        ...       ...       ...       ...\n",
      "370  1.464710 -0.413583  0.993556 -0.515968\n",
      "371  1.464710  0.796257  0.967255  0.539905\n",
      "372  1.464710  0.796257 -2.557129 -1.571841\n",
      "373  1.464710  0.277754 -0.058499 -1.571841\n",
      "374 -0.681009 -0.240749  1.019857 -0.515968\n",
      "375 -0.681009 -0.240749  0.257117  1.595778\n",
      "376 -0.681009  0.277754  0.625337 -0.515968\n",
      "377  1.464710  1.833262  1.598487 -0.515968\n",
      "378 -0.681009  0.450588 -0.716033  0.539905\n",
      "379 -0.681009 -0.413583 -1.820691 -0.515968\n",
      "380 -0.681009  0.969091  0.677939 -0.515968\n",
      "381  1.464710 -0.413583  0.257117 -0.515968\n",
      "382 -0.681009 -0.413583  0.309720 -0.515968\n",
      "383 -0.681009  0.623422  1.598487 -1.571841\n",
      "384  1.464710 -0.932086 -2.031102 -0.515968\n",
      "385 -0.681009 -1.450589 -0.979047 -1.571841\n",
      "386  1.464710  1.314759  1.230268 -0.515968\n",
      "387 -0.681009 -0.067915 -0.084800 -0.515968\n",
      "388 -0.681009  0.450588 -0.584526 -0.515968\n",
      "389 -0.681009  0.450588  0.309720 -0.515968\n",
      "390  1.464710  1.833262 -0.900143 -0.515968\n",
      "391  1.464710  0.623422  1.282871 -0.515968\n",
      "392  1.464710  0.104920 -0.032198  0.539905\n",
      "393  1.464710  0.277754  0.940953 -0.515968\n",
      "394  1.464710 -1.104920  1.572186  0.539905\n",
      "395 -0.681009  0.277754  1.598487 -0.515968\n",
      "396 -0.681009 -0.240749 -0.926444  0.539905\n",
      "397 -0.681009 -1.104920 -2.004801 -0.515968\n",
      "398 -0.681009  0.969091  0.677939 -0.515968\n",
      "399 -0.681009  0.104920  1.309172  0.539905\n",
      "\n",
      "[397 rows x 4 columns]\n"
     ]
    }
   ],
   "source": [
    "#we can also use the zscore to assess if the values are outliers. Greater than 3 or less than -3 indicates an outlier\n",
    "\n",
    "zscores = dfClean.apply(lambda x: (x - x.mean()) / x.std())\n",
    "\n",
    "print zscores"
   ]
  },
  {
   "cell_type": "code",
   "execution_count": 14,
   "metadata": {
    "collapsed": false
   },
   "outputs": [
    {
     "name": "stdout",
     "output_type": "stream",
     "text": [
      "        admit       gre       gpa  prestige\n",
      "304 -0.681009 -3.178932 -1.478773  0.539905\n",
      "        admit       gre       gpa  prestige\n",
      "289 -0.681009 -1.450589 -2.977951  1.595778\n"
     ]
    }
   ],
   "source": [
    "#Identify Gre and Gpa values that are outliers. \n",
    "\n",
    "outGre = zscores[(zscores['gre'] > 2.5) | (zscores['gre'] < -2.5)]\n",
    "outGpa = zscores[(zscores['gpa'] > 2.9) | (zscores['gpa'] < -2.9)]\n",
    "\n",
    "print outGre\n",
    "print outGpa\n",
    "\n",
    "#print outGpa.count()"
   ]
  },
  {
   "cell_type": "markdown",
   "metadata": {},
   "source": [
    "#### 4a. What is colinearity? "
   ]
  },
  {
   "cell_type": "markdown",
   "metadata": {
    "collapsed": true
   },
   "source": [
    "Answer: A situation where two predictors have positive correlations. If this is the case, one of the predictors should be removed. "
   ]
  },
  {
   "cell_type": "markdown",
   "metadata": {},
   "source": [
    "#### 4b. How will you test for colinearity? "
   ]
  },
  {
   "cell_type": "markdown",
   "metadata": {},
   "source": [
    "Use .corr to return correlation values for all columns in a dataframe. Two predictors are collinear if they have a correlation close to 1 or -1.\n"
   ]
  },
  {
   "cell_type": "code",
   "execution_count": 15,
   "metadata": {
    "collapsed": false
   },
   "outputs": [
    {
     "data": {
      "text/plain": [
       "admit       0.181202\n",
       "gre         1.000000\n",
       "gpa         0.382408\n",
       "prestige   -0.124533\n",
       "Name: gre, dtype: float64"
      ]
     },
     "execution_count": 15,
     "metadata": {},
     "output_type": "execute_result"
    }
   ],
   "source": [
    "dfClean.corr()['gre'] #no colinearity"
   ]
  },
  {
   "cell_type": "code",
   "execution_count": 16,
   "metadata": {
    "collapsed": false
   },
   "outputs": [
    {
     "data": {
      "text/plain": [
       "admit       0.174116\n",
       "gre         0.382408\n",
       "gpa         1.000000\n",
       "prestige   -0.060976\n",
       "Name: gpa, dtype: float64"
      ]
     },
     "execution_count": 16,
     "metadata": {},
     "output_type": "execute_result"
    }
   ],
   "source": [
    "dfClean.corr()['gpa'] #no colinearity"
   ]
  },
  {
   "cell_type": "code",
   "execution_count": 17,
   "metadata": {
    "collapsed": false
   },
   "outputs": [
    {
     "data": {
      "text/plain": [
       "admit      -0.243563\n",
       "gre        -0.124533\n",
       "gpa        -0.060976\n",
       "prestige    1.000000\n",
       "Name: prestige, dtype: float64"
      ]
     },
     "execution_count": 17,
     "metadata": {},
     "output_type": "execute_result"
    }
   ],
   "source": [
    "dfClean.corr()['prestige'] #no colinearity"
   ]
  },
  {
   "cell_type": "markdown",
   "metadata": {},
   "source": [
    "#### 5. What is your exploratory analysis plan?\n",
    "Using the above information, write an exploratory analysis plan that would allow you or a colleague to reproduce your analysis 1 year from now. "
   ]
  },
  {
   "cell_type": "markdown",
   "metadata": {},
   "source": [
    "# Answer: \n",
    "\n",
    "Assumption: the file has already been read into a dataframe: \n",
    "\n",
    "1. Use the following to understand the general structure and composition of the data set:\n",
    "    1. Head\n",
    "    2. Describe\n",
    "    3. Count\n",
    "    4. Shape\n",
    "    5. If there are several nulls, assess whether the rows can be dropped, or if specific column should be dropped, to avoid too many significant rows. \n",
    "2. Generate histogram and density charts to assess the distribution of data. \n",
    "3. Identify outliers using standard deviation and zscore. \n",
    "3. Generate a scatter plot to visually asses correlation for each predictor vs. outcome variable\n",
    "4. Use .corr to generate correlation values for all columns in the data frame\n"
   ]
  },
  {
   "cell_type": "code",
   "execution_count": 18,
   "metadata": {
    "collapsed": false
   },
   "outputs": [
    {
     "ename": "NameError",
     "evalue": "name 'dfNoAdmit' is not defined",
     "output_type": "error",
     "traceback": [
      "\u001b[0;31m---------------------------------------------------------------------------\u001b[0m",
      "\u001b[0;31mNameError\u001b[0m                                 Traceback (most recent call last)",
      "\u001b[0;32m<ipython-input-18-14f4172ab570>\u001b[0m in \u001b[0;36m<module>\u001b[0;34m()\u001b[0m\n\u001b[1;32m      1\u001b[0m \u001b[0;31m#Coefficient of Dispersion\u001b[0m\u001b[0;34m\u001b[0m\u001b[0;34m\u001b[0m\u001b[0m\n\u001b[1;32m      2\u001b[0m \u001b[0;34m\u001b[0m\u001b[0m\n\u001b[0;32m----> 3\u001b[0;31m \u001b[0mcpNoAdmit\u001b[0m \u001b[0;34m=\u001b[0m \u001b[0mdfNoAdmit\u001b[0m\u001b[0;34m.\u001b[0m\u001b[0mgre\u001b[0m\u001b[0;34m.\u001b[0m\u001b[0mmean\u001b[0m\u001b[0;34m(\u001b[0m\u001b[0;34m)\u001b[0m \u001b[0;34m/\u001b[0m \u001b[0mdfNoAdmit\u001b[0m\u001b[0;34m.\u001b[0m\u001b[0mgre\u001b[0m\u001b[0;34m.\u001b[0m\u001b[0mstd\u001b[0m\u001b[0;34m(\u001b[0m\u001b[0;34m)\u001b[0m\u001b[0;34m\u001b[0m\u001b[0m\n\u001b[0m\u001b[1;32m      4\u001b[0m \u001b[0mcpAdmit\u001b[0m \u001b[0;34m=\u001b[0m \u001b[0mdfAdmit\u001b[0m\u001b[0;34m.\u001b[0m\u001b[0mgre\u001b[0m\u001b[0;34m.\u001b[0m\u001b[0mmean\u001b[0m\u001b[0;34m(\u001b[0m\u001b[0;34m)\u001b[0m \u001b[0;34m/\u001b[0m \u001b[0mdfAdmit\u001b[0m\u001b[0;34m.\u001b[0m\u001b[0mgre\u001b[0m\u001b[0;34m.\u001b[0m\u001b[0mstd\u001b[0m\u001b[0;34m(\u001b[0m\u001b[0;34m)\u001b[0m\u001b[0;34m\u001b[0m\u001b[0m\n\u001b[1;32m      5\u001b[0m \u001b[0;34m\u001b[0m\u001b[0m\n",
      "\u001b[0;31mNameError\u001b[0m: name 'dfNoAdmit' is not defined"
     ]
    }
   ],
   "source": [
    "#Coefficient of Dispersion\n",
    "\n",
    "cpNoAdmit = dfNoAdmit.gre.mean() / dfNoAdmit.gre.std()\n",
    "cpAdmit = dfAdmit.gre.mean() / dfAdmit.gre.std()\n",
    "\n",
    "print cpNoAdmit\n",
    "print cpAdmit"
   ]
  },
  {
   "cell_type": "code",
   "execution_count": null,
   "metadata": {
    "collapsed": false
   },
   "outputs": [],
   "source": [
    "dfClean.gpa.kurtosis()"
   ]
  },
  {
   "cell_type": "code",
   "execution_count": 28,
   "metadata": {
    "collapsed": false
   },
   "outputs": [
    {
     "name": "stdout",
     "output_type": "stream",
     "text": [
      "admit      0   1\n",
      "prestige        \n",
      "1.0       28  33\n",
      "2.0       95  53\n",
      "3.0       93  28\n",
      "4.0       55  12\n"
     ]
    }
   ],
   "source": [
    "#dfClean.groupby([\"prestige\",\"admit\"]).size()\n",
    "\n",
    "print pd.crosstab(dfClean.prestige ,dfClean.admit)"
   ]
  },
  {
   "cell_type": "markdown",
   "metadata": {},
   "source": [
    "## Bonus Questions:\n",
    "1. Outline your analysis method for predicting your outcome\n",
    "2. Write an alternative problem statement for your dataset\n",
    "3. Articulate the assumptions and risks of the alternative model"
   ]
  },
  {
   "cell_type": "markdown",
   "metadata": {},
   "source": [
    "1. Outline your analysis method for predicting your outcome\n",
    "\n",
    "Assuming we're starting where the previous lesson ended:\n",
    " 1. Convert categorical variables into seperate columns using get_dummies()\n",
    " 2. Join the new columns to the existing data frame.\n",
    " 3. Run a logistic model to predict the outcome"
   ]
  },
  {
   "cell_type": "code",
   "execution_count": null,
   "metadata": {
    "collapsed": true
   },
   "outputs": [],
   "source": [
    " dummy_prestige = pd.get_dummies(dfClean['prestige'], prefix='prestige')"
   ]
  },
  {
   "cell_type": "code",
   "execution_count": null,
   "metadata": {
    "collapsed": false
   },
   "outputs": [],
   "source": [
    "print dummy_prestige.head(5)"
   ]
  },
  {
   "cell_type": "code",
   "execution_count": null,
   "metadata": {
    "collapsed": false
   },
   "outputs": [],
   "source": [
    "columns = ['admit', 'gre', 'gpa']\n",
    "data = dfClean[columns].join(dummy_prestige.ix[:, 'prestige_2':])\n",
    "print data.head()\n",
    "data['intercept'] = 1.0\n"
   ]
  },
  {
   "cell_type": "code",
   "execution_count": null,
   "metadata": {
    "collapsed": false
   },
   "outputs": [],
   "source": [
    "!pip statsmodels"
   ]
  },
  {
   "cell_type": "code",
   "execution_count": null,
   "metadata": {
    "collapsed": false
   },
   "outputs": [],
   "source": [
    "import statsmodels.api as sm\n",
    "\n",
    "train_cols = data.columns[1:]\n",
    " \n",
    "#logit = sm.Logit(data['admit'], data[train_cols])\n",
    "\n",
    "# fit the model\n",
    "#result = logit.fit()\n",
    "type(train_cols)"
   ]
  },
  {
   "cell_type": "code",
   "execution_count": null,
   "metadata": {
    "collapsed": false
   },
   "outputs": [],
   "source": [
    " print result.summary()\n",
    "    "
   ]
  },
  {
   "cell_type": "code",
   "execution_count": null,
   "metadata": {
    "collapsed": false
   },
   "outputs": [],
   "source": [
    "dfClean.describe()"
   ]
  },
  {
   "cell_type": "code",
   "execution_count": null,
   "metadata": {
    "collapsed": false
   },
   "outputs": [],
   "source": [
    "tab.transpose"
   ]
  },
  {
   "cell_type": "code",
   "execution_count": null,
   "metadata": {
    "collapsed": true
   },
   "outputs": [],
   "source": []
  }
 ],
 "metadata": {
  "anaconda-cloud": {},
  "kernelspec": {
   "display_name": "Python [conda root]",
   "language": "python",
   "name": "conda-root-py"
  },
  "language_info": {
   "codemirror_mode": {
    "name": "ipython",
    "version": 2
   },
   "file_extension": ".py",
   "mimetype": "text/x-python",
   "name": "python",
   "nbconvert_exporter": "python",
   "pygments_lexer": "ipython2",
   "version": "2.7.12"
  }
 },
 "nbformat": 4,
 "nbformat_minor": 0
}
