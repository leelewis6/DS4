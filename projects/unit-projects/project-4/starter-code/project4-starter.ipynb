{
 "cells": [
  {
   "cell_type": "markdown",
   "metadata": {},
   "source": [
    "# Project 4\n",
    "\n",
    "In this project, you will summarize and present your analysis from Projects 1-3."
   ]
  },
  {
   "cell_type": "markdown",
   "metadata": {},
   "source": [
    "### Intro: Write a problem Statement/ Specific Aim for this project"
   ]
  },
  {
   "cell_type": "markdown",
   "metadata": {},
   "source": [
    "Answer: The objective of this project was to determine which factors influenced students admittance to grad school.  "
   ]
  },
  {
   "cell_type": "markdown",
   "metadata": {},
   "source": [
    "### Dataset:  Write up a description of your data and any cleaning that was completed"
   ]
  },
  {
   "cell_type": "markdown",
   "metadata": {},
   "source": [
    "The data set is comprised of 3 indepenent variables and 1 response variable. The response variable is binary, two of the independent variables are continous and one is categorical ordinal. \n",
    "\n",
    "According to our initial analysis, there were 2 null values in GRE and GPA and one null in Prestige. \n",
    "\n",
    "Given the small data set, I chose to fill the nulls with the mean values, rounding prestige to the nearest whole number - as prestige is represented as the whole numbers (1, 2, 3, 4). "
   ]
  },
  {
   "cell_type": "markdown",
   "metadata": {},
   "source": [
    "Answer:\n",
    "\n",
    "Variable | Description | Type of Variable \n",
    "---| ---| ---\n",
    "admit | 0 = not admitted 1 = admitted | categorical\n",
    "gre | test score| continuous\n",
    "gpa | grade point average | continious\n",
    "prestige | rank of undergradate school | ordinal"
   ]
  },
  {
   "cell_type": "code",
   "execution_count": 69,
   "metadata": {
    "collapsed": false
   },
   "outputs": [
    {
     "data": {
      "text/plain": [
       "admit       400\n",
       "gre         398\n",
       "gpa         398\n",
       "prestige    399\n",
       "dtype: int64"
      ]
     },
     "execution_count": 69,
     "metadata": {},
     "output_type": "execute_result"
    }
   ],
   "source": [
    "df.count()"
   ]
  },
  {
   "cell_type": "markdown",
   "metadata": {
    "collapsed": true
   },
   "source": [
    "\n",
    "### Demo: Provide a table that explains the data by admission status"
   ]
  },
  {
   "cell_type": "markdown",
   "metadata": {},
   "source": [
    "Mean (STD) or counts by admission status for each variable \n",
    "\n",
    "| Not Admitted | Admitted\n",
    "---| ---|---\n",
    "GPA | 3.35  | 3.49\n",
    "GRE |574 | 619\n",
    "Prestige 1 | 46 (%)|54 (%)\n",
    "Prestige 2 | 65 (%)|35 (%)\n",
    "Prestige 3 |77 (%) |23 (%)\n",
    "Prestige 4 |82 (%) |18 (%)"
   ]
  },
  {
   "cell_type": "markdown",
   "metadata": {},
   "source": [
    "Note: The code to generate the numbers in the table, is below.\n",
    "\n",
    "1. By looking at the table, we can detect that the GPA may not be a great indicator, as the difference in the mean GPA for the admitted column is very small. \n",
    "\n",
    "2. Generally speaking, we can see that students that attend Prestige_4  and Prestige_3 schools have low odds of being admitted. \n",
    "\n",
    "3. Even though students that attend a Prestige_1 school have a higher rate of admittance, there is also a considerably high number of students that don't get admitted. So, there are other factors that may impact admittance, in addition to attending a Prestige 1 school. \n",
    "\n",
    "4. These are all assumptions purely based on the admission status metrics in the table above. "
   ]
  },
  {
   "cell_type": "code",
   "execution_count": 70,
   "metadata": {
    "collapsed": false
   },
   "outputs": [],
   "source": [
    "import pandas as pd\n",
    "import numpy as np"
   ]
  },
  {
   "cell_type": "code",
   "execution_count": 3,
   "metadata": {
    "collapsed": true
   },
   "outputs": [],
   "source": [
    "df = pd.read_csv(\"../assets/admissions.csv\")"
   ]
  },
  {
   "cell_type": "code",
   "execution_count": 66,
   "metadata": {
    "collapsed": false
   },
   "outputs": [
    {
     "data": {
      "text/html": [
       "<div>\n",
       "<table border=\"1\" class=\"dataframe\">\n",
       "  <thead>\n",
       "    <tr style=\"text-align: right;\">\n",
       "      <th>admit</th>\n",
       "      <th>0</th>\n",
       "      <th>1</th>\n",
       "    </tr>\n",
       "    <tr>\n",
       "      <th>prestige</th>\n",
       "      <th></th>\n",
       "      <th></th>\n",
       "    </tr>\n",
       "  </thead>\n",
       "  <tbody>\n",
       "    <tr>\n",
       "      <th>1.0</th>\n",
       "      <td>45.901639</td>\n",
       "      <td>54.098361</td>\n",
       "    </tr>\n",
       "    <tr>\n",
       "      <th>2.0</th>\n",
       "      <td>64.666667</td>\n",
       "      <td>35.333333</td>\n",
       "    </tr>\n",
       "    <tr>\n",
       "      <th>3.0</th>\n",
       "      <td>76.859504</td>\n",
       "      <td>23.140496</td>\n",
       "    </tr>\n",
       "    <tr>\n",
       "      <th>4.0</th>\n",
       "      <td>82.089552</td>\n",
       "      <td>17.910448</td>\n",
       "    </tr>\n",
       "  </tbody>\n",
       "</table>\n",
       "</div>"
      ],
      "text/plain": [
       "admit             0          1\n",
       "prestige                      \n",
       "1.0       45.901639  54.098361\n",
       "2.0       64.666667  35.333333\n",
       "3.0       76.859504  23.140496\n",
       "4.0       82.089552  17.910448"
      ]
     },
     "execution_count": 66,
     "metadata": {},
     "output_type": "execute_result"
    }
   ],
   "source": [
    "#Frequency table for the prestige column displayed as percentages\n",
    "dfcross = pd.crosstab(df.prestige,df.admit).apply(lambda x: (x/sum(x))*100, axis = 1)\n",
    "dfcross"
   ]
  },
  {
   "cell_type": "code",
   "execution_count": 55,
   "metadata": {
    "collapsed": false
   },
   "outputs": [
    {
     "name": "stdout",
     "output_type": "stream",
     "text": [
      "618.897637795\n",
      "573.579335793\n",
      "3.48920634921\n",
      "3.34540441176\n"
     ]
    }
   ],
   "source": [
    "#Calcuate mean gre for Admit = 0 and Admit = 1\n",
    "gre0= df[(df.admit == 1)].gre.mean()\n",
    "gre1= df[(df.admit == 0)].gre.mean()\n",
    "\n",
    "#Calcuate mean gpa for Admit = 0 and Admit = 1\n",
    "gpa0= df[(df.admit == 1)].gpa.mean()\n",
    "gpa1= df[(df.admit == 0)].gpa.mean()\n",
    "\n",
    "\n",
    "print gre0\n",
    "print gre1\n",
    "print gpa0\n",
    "print gpa1"
   ]
  },
  {
   "cell_type": "markdown",
   "metadata": {},
   "source": [
    "### Methods: Write up the methods used in your analysis"
   ]
  },
  {
   "cell_type": "markdown",
   "metadata": {},
   "source": [
    "Answer: \n",
    "Exploratory Data Analysis\n",
    "1. Explored the general structure of the data by using pandas descriptive methods, such as  head, describe, count, and shape. Iniital cleansing was required due to a few null values. I chose to few\n",
    "\n",
    "2. Utilized histograms and density charts to assess the distribution and confirm that our assumption of normality was correct. \n",
    "\n",
    "3. Using standard deviation and zscore, I tested for outliers. I worked under the assumption that a z-score of 3 or more would represent an outlier. By this defintion, none of the values were outliers. \n",
    "\n",
    "4. I used scatter plots to explore correlations between each indepedent variable with the response(admit)\n",
    "\n",
    "5. Confirmed that the indepdenent variables were NOT collinear.  \n",
    "\n",
    "6. Tested Kurtosis and Skewedess in the \n",
    "\n",
    "\n",
    "Model Selection and fitting\n",
    "1. The target variable is binary, therefore, this is a classification problem. I chose to fit using Logistic Regression \n",
    "\n",
    "2. I chose to use sklearn methods, due to the extensive library of classification metrics. \n",
    "\n",
    "3. I also prefer sklearn because it has a predict and a predict_proba method, to predict classes and actual probability. \n"
   ]
  },
  {
   "cell_type": "markdown",
   "metadata": {},
   "source": [
    "### Results: Write up your results"
   ]
  },
  {
   "cell_type": "markdown",
   "metadata": {},
   "source": [
    "Answer: \n",
    "\n",
    "The Logistic Regression model performed moderately well. By testing a range of thresholds, I found that 40% yielded the best accuracy and ROC score. There is still a fair amount of uncertainity in the model.\n",
    "\n",
    "- Model Metrics\n",
    "    - Threshold - 0.4\n",
    "    - Accuracy Score - 0.700251889169\n",
    "    - AUC - 0.623323376091\n",
    "    \n",
    "\n",
    "#### Model \"Coefficients: \n",
    "\n",
    "The follwoing table  of coefficients indicates the following: \n",
    "1. GRE is not significant.\n",
    "2. GPA has a positive correlation on admission odds.\n",
    "3. The odds of addmission increase with better ranked schools. \n",
    "\n",
    "variable|coef\n",
    "---| ---|---\n",
    "gre\t|0.00178\n",
    "gpa\t|0.2322\n",
    "prestige_2 |-0.6034\n",
    "prestige_3 |-1.1721\n",
    "prestige_4 |-1.3772\n",
    "\n",
    "\n",
    "The confusion matrix metrics are as follows: \n",
    "\n",
    " admit|precision|recall|f1-score|support\n",
    " ---| ---|---|---|---\n",
    " 0 |0.75|0.83|0.79|271\n",
    " 1 |0.54|0.41|0.47|126\n",
    "avg / total|0.68|0.70|0.69|397"
   ]
  },
  {
   "cell_type": "markdown",
   "metadata": {},
   "source": [
    "### Visuals: Provide a table or visualization of these results"
   ]
  },
  {
   "cell_type": "markdown",
   "metadata": {},
   "source": [
    "The AUC for the model is 56."
   ]
  },
  {
   "cell_type": "markdown",
   "metadata": {},
   "source": [
    "<img src= \"../ROC_curve_logistic.png\">"
   ]
  },
  {
   "cell_type": "markdown",
   "metadata": {},
   "source": [
    "### Discussion: Write up your discussion and future steps"
   ]
  },
  {
   "cell_type": "markdown",
   "metadata": {},
   "source": [
    "Answer: \n",
    "\n",
    "In a future iteration of this project, I'd like to try Decision Trees, Random Forest, and potentially some ensemble methods to increase the accuracy of the model. \n",
    "\n",
    "The data set was relatively small, which makes it more prone to overfitting. Even though we performed k-fold cross validation, a larger data set would have been better suited for a test-train-split cross-validation technique."
   ]
  },
  {
   "cell_type": "code",
   "execution_count": null,
   "metadata": {
    "collapsed": true
   },
   "outputs": [],
   "source": []
  }
 ],
 "metadata": {
  "anaconda-cloud": {},
  "kernelspec": {
   "display_name": "Python [default]",
   "language": "python",
   "name": "python2"
  },
  "language_info": {
   "codemirror_mode": {
    "name": "ipython",
    "version": 2
   },
   "file_extension": ".py",
   "mimetype": "text/x-python",
   "name": "python",
   "nbconvert_exporter": "python",
   "pygments_lexer": "ipython2",
   "version": "2.7.12"
  }
 },
 "nbformat": 4,
 "nbformat_minor": 0
}
